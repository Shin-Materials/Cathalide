{
 "cells": [
  {
   "cell_type": "markdown",
   "id": "043a034f",
   "metadata": {},
   "source": [
    "# Cathalide Examples\n",
    "\n",
    "## 1. Rotating a molecule in the structure\n",
    "\n",
    "- Step1: Define molecules with VESTA labels\n",
    "- Step2: Set the anchor point (or reference point) of rotation\n",
    "- Step3: Set the axis of rotation (numpy array of [3,]). Direction is based on a,b,c vectors of POSCAR file\n",
    "- Step4: Set degree of rotation"
   ]
  },
  {
   "cell_type": "code",
   "execution_count": 1,
   "id": "d1439fda",
   "metadata": {},
   "outputs": [],
   "source": [
    "from pymatgen.core import Structure\n",
    "from pymatgen.core import Element\n",
    "from glob import glob\n",
    "import numpy as np\n",
    "from scipy.spatial.transform import Rotation as R\n",
    "from Functions import molecule_rotation, convert_site_index, Write_POSCAR\n",
    "from Functions import list_all_molecules, molecule_finder, create_df\n",
    "from Functions import Shin_molecule\n",
    "import copy\n",
    "import pandas as pd\n",
    "import scipy\n",
    "\n",
    "\"\"\"\n",
    "1. Import POSCAR structure as pymatgen structure\n",
    "\"\"\"\n",
    "struct=Structure.from_file(\"FACsPb2Br6.vasp\")\n",
    "\n",
    "\n"
   ]
  },
  {
   "cell_type": "code",
   "execution_count": null,
   "id": "03322d12",
   "metadata": {},
   "outputs": [],
   "source": []
  }
 ],
 "metadata": {
  "kernelspec": {
   "display_name": "Python 3",
   "language": "python",
   "name": "python3"
  },
  "language_info": {
   "codemirror_mode": {
    "name": "ipython",
    "version": 3
   },
   "file_extension": ".py",
   "mimetype": "text/x-python",
   "name": "python",
   "nbconvert_exporter": "python",
   "pygments_lexer": "ipython3",
   "version": "3.8.8"
  }
 },
 "nbformat": 4,
 "nbformat_minor": 5
}
