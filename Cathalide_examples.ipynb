{
 "cells": [
  {
   "cell_type": "markdown",
   "id": "cecf38e7",
   "metadata": {},
   "source": [
    "# Cathalide Examples\n",
    "\n",
    "## 1. Rotating a molecule in the structure\n",
    "\n",
    "- Step1: Define molecules with VESTA labels\n",
    "- Step2: Set the anchor point (or reference point) of rotation\n",
    "- Step3: Set the axis of rotation (numpy array of [3,]). Direction is based on a,b,c vectors of POSCAR file\n",
    "- Step4: Set degree of rotation"
   ]
  },
  {
   "cell_type": "code",
   "execution_count": null,
   "id": "3c25b503",
   "metadata": {},
   "outputs": [],
   "source": []
  }
 ],
 "metadata": {
  "kernelspec": {
   "display_name": "Python 3",
   "language": "python",
   "name": "python3"
  },
  "language_info": {
   "codemirror_mode": {
    "name": "ipython",
    "version": 3
   },
   "file_extension": ".py",
   "mimetype": "text/x-python",
   "name": "python",
   "nbconvert_exporter": "python",
   "pygments_lexer": "ipython3",
   "version": "3.8.8"
  }
 },
 "nbformat": 4,
 "nbformat_minor": 5
}
